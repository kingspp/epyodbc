{
 "cells": [
  {
   "cell_type": "markdown",
   "metadata": {
    "slideshow": {
     "slide_type": "slide"
    }
   },
   "source": [
    "<div align=\"center\">\n",
    "    <b style=\"font-size:68px\">EPyODBC</b><br/>\n",
    "    <span style=\"font-size:40px\">Enhanced PyODBC with support for Jupyter Widgets</span>><br/>\n",
    "    <span style=\"font-size:22px\">04 September, 2020 | Prathyush SP</span>\n",
    "</div>"
   ]
  },
  {
   "cell_type": "markdown",
   "metadata": {
    "slideshow": {
     "slide_type": "slide"
    }
   },
   "source": [
    "# Why EPyODBC?\n",
    "\n",
    "PyODBC is geared towards software developers with a focus on building enterprise applications.\n",
    "<ul>\n",
    "<li><b>Bridging Data Science</b> -  Data Scientists and Experimentalists have specific needs and to achieve the same using standard ORM tool can be an arduous task </li>\n",
    "\n",
    "<li><b>GUI</b> - Graphical User Interface provides makes a job easy as it just takes a few clicks to learn about a feature</li>\n",
    "</ul>"
   ]
  },
  {
   "cell_type": "markdown",
   "metadata": {
    "slideshow": {
     "slide_type": "slide"
    }
   },
   "source": [
    "# Installation\n",
    "\n",
    "```bash\n",
    "pip install git+https://github.com/kingspp/epyodbc.git#egg=epyodbc\n",
    "```"
   ]
  },
  {
   "cell_type": "code",
   "execution_count": 1,
   "metadata": {
    "slideshow": {
     "slide_type": "subslide"
    }
   },
   "outputs": [
    {
     "name": "stdout",
     "output_type": "stream",
     "text": [
      "0.1.8\n"
     ]
    }
   ],
   "source": [
    "import epyodbc\n",
    "print(epyodbc.__version__)"
   ]
  },
  {
   "cell_type": "markdown",
   "metadata": {
    "slideshow": {
     "slide_type": "slide"
    }
   },
   "source": [
    "# Connect to a Database"
   ]
  },
  {
   "cell_type": "code",
   "execution_count": 2,
   "metadata": {
    "slideshow": {
     "slide_type": "fragment"
    }
   },
   "outputs": [
    {
     "name": "stdout",
     "output_type": "stream",
     "text": [
      "Connected to DB Successfully\n"
     ]
    },
    {
     "name": "stderr",
     "output_type": "stream",
     "text": [
      "/Users/prathyushsp/anaconda3/envs/py36/lib/python3.6/site-packages/sqlalchemy/connectors/pyodbc.py:81: SAWarning: No driver name specified; this is expected by PyODBC when using DSN-less connections\n",
      "  \"No driver name specified; \"\n"
     ]
    }
   ],
   "source": [
    "# Import Database\n",
    "from epyodbc import Database\n",
    "\n",
    "# Using config\n",
    "config = {\n",
    "    \"host\": \"0.0.0.0\",\n",
    "    \"port\": \"1433\",\n",
    "    \"database\": 'master',\n",
    "    \"username\": \"SA\",\n",
    "    \"password\": \"supersecurE1password13123\"\n",
    "}\n",
    "\n",
    "# Create a Database object using config\n",
    "db = Database(config=config)"
   ]
  },
  {
   "cell_type": "code",
   "execution_count": 28,
   "metadata": {},
   "outputs": [
    {
     "name": "stdout",
     "output_type": "stream",
     "text": [
      "The autoreload extension is already loaded. To reload it, use:\n",
      "  %reload_ext autoreload\n"
     ]
    },
    {
     "name": "stderr",
     "output_type": "stream",
     "text": [
      "/Users/prathyushsp/anaconda3/envs/py36/lib/python3.6/site-packages/sqlalchemy/connectors/pyodbc.py:81: SAWarning: No driver name specified; this is expected by PyODBC when using DSN-less connections\n",
      "  \"No driver name specified; \"\n"
     ]
    },
    {
     "data": {
      "text/html": [
       "<div>\n",
       "<style scoped>\n",
       "    .dataframe tbody tr th:only-of-type {\n",
       "        vertical-align: middle;\n",
       "    }\n",
       "\n",
       "    .dataframe tbody tr th {\n",
       "        vertical-align: top;\n",
       "    }\n",
       "\n",
       "    .dataframe thead th {\n",
       "        text-align: right;\n",
       "    }\n",
       "</style>\n",
       "<table border=\"1\" class=\"dataframe\">\n",
       "  <thead>\n",
       "    <tr style=\"text-align: right;\">\n",
       "      <th></th>\n",
       "      <th>distrlevel</th>\n",
       "      <th>whetherpublic</th>\n",
       "      <th>adhname</th>\n",
       "      <th>adhtype</th>\n",
       "      <th>adhform</th>\n",
       "      <th>lotid</th>\n",
       "      <th>manufacturercode</th>\n",
       "      <th>expirationdate</th>\n",
       "      <th>tier</th>\n",
       "      <th>groupnum</th>\n",
       "      <th>groupconfidence</th>\n",
       "      <th>safteysheetfilename</th>\n",
       "      <th>safetysheetfilesize</th>\n",
       "      <th>techsheetfilename</th>\n",
       "      <th>techsheetfilesize</th>\n",
       "      <th>companyid</th>\n",
       "    </tr>\n",
       "  </thead>\n",
       "  <tbody>\n",
       "    <tr>\n",
       "      <th>count</th>\n",
       "      <td>0</td>\n",
       "      <td>0</td>\n",
       "      <td>8</td>\n",
       "      <td>0</td>\n",
       "      <td>0</td>\n",
       "      <td>0</td>\n",
       "      <td>0</td>\n",
       "      <td>0</td>\n",
       "      <td>0</td>\n",
       "      <td>0</td>\n",
       "      <td>0</td>\n",
       "      <td>0</td>\n",
       "      <td>0</td>\n",
       "      <td>0</td>\n",
       "      <td>0</td>\n",
       "      <td>0</td>\n",
       "    </tr>\n",
       "    <tr>\n",
       "      <th>unique</th>\n",
       "      <td>0</td>\n",
       "      <td>0</td>\n",
       "      <td>1</td>\n",
       "      <td>0</td>\n",
       "      <td>0</td>\n",
       "      <td>0</td>\n",
       "      <td>0</td>\n",
       "      <td>0</td>\n",
       "      <td>0</td>\n",
       "      <td>0</td>\n",
       "      <td>0</td>\n",
       "      <td>0</td>\n",
       "      <td>0</td>\n",
       "      <td>0</td>\n",
       "      <td>0</td>\n",
       "      <td>0</td>\n",
       "    </tr>\n",
       "    <tr>\n",
       "      <th>top</th>\n",
       "      <td>NaN</td>\n",
       "      <td>NaN</td>\n",
       "      <td>Adhesive 1                                    ...</td>\n",
       "      <td>NaN</td>\n",
       "      <td>NaN</td>\n",
       "      <td>NaN</td>\n",
       "      <td>NaN</td>\n",
       "      <td>NaN</td>\n",
       "      <td>NaN</td>\n",
       "      <td>NaN</td>\n",
       "      <td>NaN</td>\n",
       "      <td>NaN</td>\n",
       "      <td>NaN</td>\n",
       "      <td>NaN</td>\n",
       "      <td>NaN</td>\n",
       "      <td>NaN</td>\n",
       "    </tr>\n",
       "    <tr>\n",
       "      <th>freq</th>\n",
       "      <td>NaN</td>\n",
       "      <td>NaN</td>\n",
       "      <td>8</td>\n",
       "      <td>NaN</td>\n",
       "      <td>NaN</td>\n",
       "      <td>NaN</td>\n",
       "      <td>NaN</td>\n",
       "      <td>NaN</td>\n",
       "      <td>NaN</td>\n",
       "      <td>NaN</td>\n",
       "      <td>NaN</td>\n",
       "      <td>NaN</td>\n",
       "      <td>NaN</td>\n",
       "      <td>NaN</td>\n",
       "      <td>NaN</td>\n",
       "      <td>NaN</td>\n",
       "    </tr>\n",
       "  </tbody>\n",
       "</table>\n",
       "</div>"
      ],
      "text/plain": [
       "       distrlevel whetherpublic  \\\n",
       "count           0             0   \n",
       "unique          0             0   \n",
       "top           NaN           NaN   \n",
       "freq          NaN           NaN   \n",
       "\n",
       "                                                  adhname adhtype adhform  \\\n",
       "count                                                   8       0       0   \n",
       "unique                                                  1       0       0   \n",
       "top     Adhesive 1                                    ...     NaN     NaN   \n",
       "freq                                                    8     NaN     NaN   \n",
       "\n",
       "       lotid manufacturercode expirationdate tier groupnum groupconfidence  \\\n",
       "count      0                0              0    0        0               0   \n",
       "unique     0                0              0    0        0               0   \n",
       "top      NaN              NaN            NaN  NaN      NaN             NaN   \n",
       "freq     NaN              NaN            NaN  NaN      NaN             NaN   \n",
       "\n",
       "       safteysheetfilename safetysheetfilesize techsheetfilename  \\\n",
       "count                    0                   0                 0   \n",
       "unique                   0                   0                 0   \n",
       "top                    NaN                 NaN               NaN   \n",
       "freq                   NaN                 NaN               NaN   \n",
       "\n",
       "       techsheetfilesize companyid  \n",
       "count                  0         0  \n",
       "unique                 0         0  \n",
       "top                  NaN       NaN  \n",
       "freq                 NaN       NaN  "
      ]
     },
     "execution_count": 28,
     "metadata": {},
     "output_type": "execute_result"
    }
   ],
   "source": [
    "%load_ext autoreload\n",
    "%autoreload 2\n",
    "dir(db)\n",
    "aDF = db.Adhesives_.compute().describe()\n",
    "uDF = db.Users_.compute().describe()\n",
    "\n",
    "uDF.groupby(aDF.id)"
   ]
  },
  {
   "cell_type": "code",
   "execution_count": 3,
   "metadata": {},
   "outputs": [
    {
     "name": "stdout",
     "output_type": "stream",
     "text": [
      "Loading server config from : /Users/prathyushsp/Git/arl/adhesives/epyodbc/src/epyodbc/configs/local.json\n",
      "Connected to DB Successfully\n"
     ]
    }
   ],
   "source": [
    "# Connect to a Database using properties\n",
    "\n",
    "# File path\n",
    "from epyodbc import Database, EPYODBC_MODULE_PATH\n",
    "\n",
    "# Create a Database object using config\n",
    "db = Database(config_file_path=f'{EPYODBC_MODULE_PATH}/configs/local.json')"
   ]
  },
  {
   "cell_type": "code",
   "execution_count": 5,
   "metadata": {},
   "outputs": [
    {
     "name": "stdout",
     "output_type": "stream",
     "text": [
      "Loading server config from : /Users/prathyushsp/Git/arl/adhesives/epyodbc/src/epyodbc/configs/local.json\n",
      "Connected to DB Successfully\n"
     ]
    },
    {
     "name": "stderr",
     "output_type": "stream",
     "text": [
      "/Users/prathyushsp/anaconda3/envs/py36/lib/python3.6/site-packages/sqlalchemy/connectors/pyodbc.py:81: SAWarning:\n",
      "\n",
      "No driver name specified; this is expected by PyODBC when using DSN-less connections\n",
      "\n"
     ]
    }
   ],
   "source": [
    "# Connect to a Database using properties\n",
    "\n",
    "# File path\n",
    "from epyodbc import Database, EPYODBC_MODULE_PATH\n",
    "import os\n",
    "\n",
    "os.environ['EPYODBC_DBCONFIG'] = f'{EPYODBC_MODULE_PATH}/configs/local.json'\n",
    "\n",
    "# Create a Database object using config\n",
    "db = Database()"
   ]
  },
  {
   "cell_type": "markdown",
   "metadata": {},
   "source": [
    "# Lazy Evaluation, Table Autocompletion"
   ]
  },
  {
   "cell_type": "code",
   "execution_count": 5,
   "metadata": {},
   "outputs": [
    {
     "name": "stdout",
     "output_type": "stream",
     "text": [
      "Index(['distrlevel', 'whetherpublic', 'adhname', 'adhtype', 'adhform', 'lotid',\n",
      "       'manufacturercode', 'expirationdate', 'tier', 'groupnum',\n",
      "       'groupconfidence', 'safteysheetfilename', 'safetysheetfilesize',\n",
      "       'techsheetfilename', 'techsheetfilesize', 'companyid'],\n",
      "      dtype='object')\n"
     ]
    },
    {
     "name": "stderr",
     "output_type": "stream",
     "text": [
      "/Users/prathyushsp/anaconda3/envs/py36/lib/python3.6/site-packages/sqlalchemy/connectors/pyodbc.py:81: SAWarning: No driver name specified; this is expected by PyODBC when using DSN-less connections\n",
      "  \"No driver name specified; \"\n"
     ]
    },
    {
     "data": {
      "text/html": [
       "<div>\n",
       "<style scoped>\n",
       "    .dataframe tbody tr th:only-of-type {\n",
       "        vertical-align: middle;\n",
       "    }\n",
       "\n",
       "    .dataframe tbody tr th {\n",
       "        vertical-align: top;\n",
       "    }\n",
       "\n",
       "    .dataframe thead th {\n",
       "        text-align: right;\n",
       "    }\n",
       "</style>\n",
       "<table border=\"1\" class=\"dataframe\">\n",
       "  <thead>\n",
       "    <tr style=\"text-align: right;\">\n",
       "      <th></th>\n",
       "      <th>distrlevel</th>\n",
       "      <th>whetherpublic</th>\n",
       "      <th>adhname</th>\n",
       "      <th>adhtype</th>\n",
       "      <th>adhform</th>\n",
       "      <th>lotid</th>\n",
       "      <th>manufacturercode</th>\n",
       "      <th>expirationdate</th>\n",
       "      <th>tier</th>\n",
       "      <th>groupnum</th>\n",
       "      <th>groupconfidence</th>\n",
       "      <th>safteysheetfilename</th>\n",
       "      <th>safetysheetfilesize</th>\n",
       "      <th>techsheetfilename</th>\n",
       "      <th>techsheetfilesize</th>\n",
       "      <th>companyid</th>\n",
       "    </tr>\n",
       "    <tr>\n",
       "      <th>adhid</th>\n",
       "      <th></th>\n",
       "      <th></th>\n",
       "      <th></th>\n",
       "      <th></th>\n",
       "      <th></th>\n",
       "      <th></th>\n",
       "      <th></th>\n",
       "      <th></th>\n",
       "      <th></th>\n",
       "      <th></th>\n",
       "      <th></th>\n",
       "      <th></th>\n",
       "      <th></th>\n",
       "      <th></th>\n",
       "      <th></th>\n",
       "      <th></th>\n",
       "    </tr>\n",
       "  </thead>\n",
       "  <tbody>\n",
       "    <tr>\n",
       "      <th>1</th>\n",
       "      <td>None</td>\n",
       "      <td>None</td>\n",
       "      <td>Adhesive 1                                    ...</td>\n",
       "      <td>None</td>\n",
       "      <td>None</td>\n",
       "      <td>None</td>\n",
       "      <td>None</td>\n",
       "      <td>None</td>\n",
       "      <td>None</td>\n",
       "      <td>None</td>\n",
       "      <td>None</td>\n",
       "      <td>None</td>\n",
       "      <td>None</td>\n",
       "      <td>None</td>\n",
       "      <td>None</td>\n",
       "      <td>None</td>\n",
       "    </tr>\n",
       "    <tr>\n",
       "      <th>2</th>\n",
       "      <td>None</td>\n",
       "      <td>None</td>\n",
       "      <td>Adhesive 1                                    ...</td>\n",
       "      <td>None</td>\n",
       "      <td>None</td>\n",
       "      <td>None</td>\n",
       "      <td>None</td>\n",
       "      <td>None</td>\n",
       "      <td>None</td>\n",
       "      <td>None</td>\n",
       "      <td>None</td>\n",
       "      <td>None</td>\n",
       "      <td>None</td>\n",
       "      <td>None</td>\n",
       "      <td>None</td>\n",
       "      <td>None</td>\n",
       "    </tr>\n",
       "    <tr>\n",
       "      <th>3</th>\n",
       "      <td>None</td>\n",
       "      <td>None</td>\n",
       "      <td>Adhesive 1                                    ...</td>\n",
       "      <td>None</td>\n",
       "      <td>None</td>\n",
       "      <td>None</td>\n",
       "      <td>None</td>\n",
       "      <td>None</td>\n",
       "      <td>None</td>\n",
       "      <td>None</td>\n",
       "      <td>None</td>\n",
       "      <td>None</td>\n",
       "      <td>None</td>\n",
       "      <td>None</td>\n",
       "      <td>None</td>\n",
       "      <td>None</td>\n",
       "    </tr>\n",
       "    <tr>\n",
       "      <th>4</th>\n",
       "      <td>None</td>\n",
       "      <td>None</td>\n",
       "      <td>Adhesive 1                                    ...</td>\n",
       "      <td>None</td>\n",
       "      <td>None</td>\n",
       "      <td>None</td>\n",
       "      <td>None</td>\n",
       "      <td>None</td>\n",
       "      <td>None</td>\n",
       "      <td>None</td>\n",
       "      <td>None</td>\n",
       "      <td>None</td>\n",
       "      <td>None</td>\n",
       "      <td>None</td>\n",
       "      <td>None</td>\n",
       "      <td>None</td>\n",
       "    </tr>\n",
       "    <tr>\n",
       "      <th>5</th>\n",
       "      <td>None</td>\n",
       "      <td>None</td>\n",
       "      <td>Adhesive 1                                    ...</td>\n",
       "      <td>None</td>\n",
       "      <td>None</td>\n",
       "      <td>None</td>\n",
       "      <td>None</td>\n",
       "      <td>None</td>\n",
       "      <td>None</td>\n",
       "      <td>None</td>\n",
       "      <td>None</td>\n",
       "      <td>None</td>\n",
       "      <td>None</td>\n",
       "      <td>None</td>\n",
       "      <td>None</td>\n",
       "      <td>None</td>\n",
       "    </tr>\n",
       "  </tbody>\n",
       "</table>\n",
       "</div>"
      ],
      "text/plain": [
       "      distrlevel whetherpublic  \\\n",
       "adhid                            \n",
       "1           None          None   \n",
       "2           None          None   \n",
       "3           None          None   \n",
       "4           None          None   \n",
       "5           None          None   \n",
       "\n",
       "                                                 adhname adhtype adhform  \\\n",
       "adhid                                                                      \n",
       "1      Adhesive 1                                    ...    None    None   \n",
       "2      Adhesive 1                                    ...    None    None   \n",
       "3      Adhesive 1                                    ...    None    None   \n",
       "4      Adhesive 1                                    ...    None    None   \n",
       "5      Adhesive 1                                    ...    None    None   \n",
       "\n",
       "      lotid manufacturercode expirationdate  tier groupnum groupconfidence  \\\n",
       "adhid                                                                        \n",
       "1      None             None           None  None     None            None   \n",
       "2      None             None           None  None     None            None   \n",
       "3      None             None           None  None     None            None   \n",
       "4      None             None           None  None     None            None   \n",
       "5      None             None           None  None     None            None   \n",
       "\n",
       "      safteysheetfilename safetysheetfilesize techsheetfilename  \\\n",
       "adhid                                                             \n",
       "1                    None                None              None   \n",
       "2                    None                None              None   \n",
       "3                    None                None              None   \n",
       "4                    None                None              None   \n",
       "5                    None                None              None   \n",
       "\n",
       "      techsheetfilesize companyid  \n",
       "adhid                              \n",
       "1                  None      None  \n",
       "2                  None      None  \n",
       "3                  None      None  \n",
       "4                  None      None  \n",
       "5                  None      None  "
      ]
     },
     "execution_count": 5,
     "metadata": {},
     "output_type": "execute_result"
    }
   ],
   "source": [
    "# Get to know the columns\n",
    "db.\n",
    "# print(db.Adhesives_.columns)\n",
    "\n",
    "# View a sample\n",
    "db.Adhesives_.head()"
   ]
  },
  {
   "cell_type": "markdown",
   "metadata": {},
   "source": [
    "# Statistics"
   ]
  },
  {
   "cell_type": "code",
   "execution_count": 6,
   "metadata": {},
   "outputs": [
    {
     "name": "stderr",
     "output_type": "stream",
     "text": [
      "/Users/prathyushsp/anaconda3/envs/py36/lib/python3.6/site-packages/sqlalchemy/connectors/pyodbc.py:81: SAWarning: No driver name specified; this is expected by PyODBC when using DSN-less connections\n",
      "  \"No driver name specified; \"\n"
     ]
    },
    {
     "data": {
      "text/html": [
       "<div>\n",
       "<style scoped>\n",
       "    .dataframe tbody tr th:only-of-type {\n",
       "        vertical-align: middle;\n",
       "    }\n",
       "\n",
       "    .dataframe tbody tr th {\n",
       "        vertical-align: top;\n",
       "    }\n",
       "\n",
       "    .dataframe thead th {\n",
       "        text-align: right;\n",
       "    }\n",
       "</style>\n",
       "<table border=\"1\" class=\"dataframe\">\n",
       "  <thead>\n",
       "    <tr style=\"text-align: right;\">\n",
       "      <th></th>\n",
       "      <th>distrlevel</th>\n",
       "      <th>whetherpublic</th>\n",
       "      <th>adhname</th>\n",
       "      <th>adhtype</th>\n",
       "      <th>adhform</th>\n",
       "      <th>lotid</th>\n",
       "      <th>manufacturercode</th>\n",
       "      <th>expirationdate</th>\n",
       "      <th>tier</th>\n",
       "      <th>groupnum</th>\n",
       "      <th>groupconfidence</th>\n",
       "      <th>safteysheetfilename</th>\n",
       "      <th>safetysheetfilesize</th>\n",
       "      <th>techsheetfilename</th>\n",
       "      <th>techsheetfilesize</th>\n",
       "      <th>companyid</th>\n",
       "    </tr>\n",
       "  </thead>\n",
       "  <tbody>\n",
       "    <tr>\n",
       "      <th>count</th>\n",
       "      <td>0</td>\n",
       "      <td>0</td>\n",
       "      <td>8</td>\n",
       "      <td>0</td>\n",
       "      <td>0</td>\n",
       "      <td>0</td>\n",
       "      <td>0</td>\n",
       "      <td>0</td>\n",
       "      <td>0</td>\n",
       "      <td>0</td>\n",
       "      <td>0</td>\n",
       "      <td>0</td>\n",
       "      <td>0</td>\n",
       "      <td>0</td>\n",
       "      <td>0</td>\n",
       "      <td>0</td>\n",
       "    </tr>\n",
       "    <tr>\n",
       "      <th>unique</th>\n",
       "      <td>0</td>\n",
       "      <td>0</td>\n",
       "      <td>1</td>\n",
       "      <td>0</td>\n",
       "      <td>0</td>\n",
       "      <td>0</td>\n",
       "      <td>0</td>\n",
       "      <td>0</td>\n",
       "      <td>0</td>\n",
       "      <td>0</td>\n",
       "      <td>0</td>\n",
       "      <td>0</td>\n",
       "      <td>0</td>\n",
       "      <td>0</td>\n",
       "      <td>0</td>\n",
       "      <td>0</td>\n",
       "    </tr>\n",
       "    <tr>\n",
       "      <th>top</th>\n",
       "      <td>NaN</td>\n",
       "      <td>NaN</td>\n",
       "      <td>Adhesive 1                                    ...</td>\n",
       "      <td>NaN</td>\n",
       "      <td>NaN</td>\n",
       "      <td>NaN</td>\n",
       "      <td>NaN</td>\n",
       "      <td>NaN</td>\n",
       "      <td>NaN</td>\n",
       "      <td>NaN</td>\n",
       "      <td>NaN</td>\n",
       "      <td>NaN</td>\n",
       "      <td>NaN</td>\n",
       "      <td>NaN</td>\n",
       "      <td>NaN</td>\n",
       "      <td>NaN</td>\n",
       "    </tr>\n",
       "    <tr>\n",
       "      <th>freq</th>\n",
       "      <td>NaN</td>\n",
       "      <td>NaN</td>\n",
       "      <td>8</td>\n",
       "      <td>NaN</td>\n",
       "      <td>NaN</td>\n",
       "      <td>NaN</td>\n",
       "      <td>NaN</td>\n",
       "      <td>NaN</td>\n",
       "      <td>NaN</td>\n",
       "      <td>NaN</td>\n",
       "      <td>NaN</td>\n",
       "      <td>NaN</td>\n",
       "      <td>NaN</td>\n",
       "      <td>NaN</td>\n",
       "      <td>NaN</td>\n",
       "      <td>NaN</td>\n",
       "    </tr>\n",
       "  </tbody>\n",
       "</table>\n",
       "</div>"
      ],
      "text/plain": [
       "       distrlevel whetherpublic  \\\n",
       "count           0             0   \n",
       "unique          0             0   \n",
       "top           NaN           NaN   \n",
       "freq          NaN           NaN   \n",
       "\n",
       "                                                  adhname adhtype adhform  \\\n",
       "count                                                   8       0       0   \n",
       "unique                                                  1       0       0   \n",
       "top     Adhesive 1                                    ...     NaN     NaN   \n",
       "freq                                                    8     NaN     NaN   \n",
       "\n",
       "       lotid manufacturercode expirationdate tier groupnum groupconfidence  \\\n",
       "count      0                0              0    0        0               0   \n",
       "unique     0                0              0    0        0               0   \n",
       "top      NaN              NaN            NaN  NaN      NaN             NaN   \n",
       "freq     NaN              NaN            NaN  NaN      NaN             NaN   \n",
       "\n",
       "       safteysheetfilename safetysheetfilesize techsheetfilename  \\\n",
       "count                    0                   0                 0   \n",
       "unique                   0                   0                 0   \n",
       "top                    NaN                 NaN               NaN   \n",
       "freq                   NaN                 NaN               NaN   \n",
       "\n",
       "       techsheetfilesize companyid  \n",
       "count                  0         0  \n",
       "unique                 0         0  \n",
       "top                  NaN       NaN  \n",
       "freq                 NaN       NaN  "
      ]
     },
     "execution_count": 6,
     "metadata": {},
     "output_type": "execute_result"
    }
   ],
   "source": [
    "df = db.Adhesives_.compute()\n",
    "df.describe()"
   ]
  },
  {
   "cell_type": "markdown",
   "metadata": {},
   "source": [
    "# Get Tables"
   ]
  },
  {
   "cell_type": "code",
   "execution_count": 7,
   "metadata": {},
   "outputs": [
    {
     "data": {
      "text/plain": [
       "['Adhesives',\n",
       " 'BondingPressure',\n",
       " 'Cache',\n",
       " 'Companies',\n",
       " 'CrackExtensionTests',\n",
       " 'CureCycle',\n",
       " 'EnvironmentalTestChamber',\n",
       " 'Instruments',\n",
       " 'LoadCell',\n",
       " 'Micrometer',\n",
       " 'Oven',\n",
       " 'SampleTest',\n",
       " 'SingleLapJointTests',\n",
       " 'TestFrame',\n",
       " 'Users']"
      ]
     },
     "execution_count": 7,
     "metadata": {},
     "output_type": "execute_result"
    }
   ],
   "source": [
    "db.tables"
   ]
  },
  {
   "cell_type": "markdown",
   "metadata": {},
   "source": [
    "# Quick look at columns"
   ]
  },
  {
   "cell_type": "code",
   "execution_count": 8,
   "metadata": {},
   "outputs": [
    {
     "data": {
      "text/html": [
       "<div><strong>Dask DataFrame Structure:</strong></div>\n",
       "<div>\n",
       "<style scoped>\n",
       "    .dataframe tbody tr th:only-of-type {\n",
       "        vertical-align: middle;\n",
       "    }\n",
       "\n",
       "    .dataframe tbody tr th {\n",
       "        vertical-align: top;\n",
       "    }\n",
       "\n",
       "    .dataframe thead th {\n",
       "        text-align: right;\n",
       "    }\n",
       "</style>\n",
       "<table border=\"1\" class=\"dataframe\">\n",
       "  <thead>\n",
       "    <tr style=\"text-align: right;\">\n",
       "      <th></th>\n",
       "      <th>distrlevel</th>\n",
       "      <th>whetherpublic</th>\n",
       "      <th>adhname</th>\n",
       "      <th>adhtype</th>\n",
       "      <th>adhform</th>\n",
       "      <th>lotid</th>\n",
       "      <th>manufacturercode</th>\n",
       "      <th>expirationdate</th>\n",
       "      <th>tier</th>\n",
       "      <th>groupnum</th>\n",
       "      <th>groupconfidence</th>\n",
       "      <th>safteysheetfilename</th>\n",
       "      <th>safetysheetfilesize</th>\n",
       "      <th>techsheetfilename</th>\n",
       "      <th>techsheetfilesize</th>\n",
       "      <th>companyid</th>\n",
       "    </tr>\n",
       "    <tr>\n",
       "      <th>npartitions=1</th>\n",
       "      <th></th>\n",
       "      <th></th>\n",
       "      <th></th>\n",
       "      <th></th>\n",
       "      <th></th>\n",
       "      <th></th>\n",
       "      <th></th>\n",
       "      <th></th>\n",
       "      <th></th>\n",
       "      <th></th>\n",
       "      <th></th>\n",
       "      <th></th>\n",
       "      <th></th>\n",
       "      <th></th>\n",
       "      <th></th>\n",
       "      <th></th>\n",
       "    </tr>\n",
       "  </thead>\n",
       "  <tbody>\n",
       "    <tr>\n",
       "      <th></th>\n",
       "      <td>object</td>\n",
       "      <td>object</td>\n",
       "      <td>object</td>\n",
       "      <td>object</td>\n",
       "      <td>object</td>\n",
       "      <td>object</td>\n",
       "      <td>object</td>\n",
       "      <td>object</td>\n",
       "      <td>object</td>\n",
       "      <td>object</td>\n",
       "      <td>object</td>\n",
       "      <td>object</td>\n",
       "      <td>object</td>\n",
       "      <td>object</td>\n",
       "      <td>object</td>\n",
       "      <td>object</td>\n",
       "    </tr>\n",
       "    <tr>\n",
       "      <th></th>\n",
       "      <td>...</td>\n",
       "      <td>...</td>\n",
       "      <td>...</td>\n",
       "      <td>...</td>\n",
       "      <td>...</td>\n",
       "      <td>...</td>\n",
       "      <td>...</td>\n",
       "      <td>...</td>\n",
       "      <td>...</td>\n",
       "      <td>...</td>\n",
       "      <td>...</td>\n",
       "      <td>...</td>\n",
       "      <td>...</td>\n",
       "      <td>...</td>\n",
       "      <td>...</td>\n",
       "      <td>...</td>\n",
       "    </tr>\n",
       "  </tbody>\n",
       "</table>\n",
       "</div>\n",
       "<div>Dask Name: describe, 179 tasks</div>"
      ],
      "text/plain": [
       "Dask DataFrame Structure:\n",
       "              distrlevel whetherpublic adhname adhtype adhform   lotid manufacturercode expirationdate    tier groupnum groupconfidence safteysheetfilename safetysheetfilesize techsheetfilename techsheetfilesize companyid\n",
       "npartitions=1                                                                                                                                                                                                                \n",
       "                  object        object  object  object  object  object           object         object  object   object          object              object              object            object            object    object\n",
       "                     ...           ...     ...     ...     ...     ...              ...            ...     ...      ...             ...                 ...                 ...               ...               ...       ...\n",
       "Dask Name: describe, 179 tasks"
      ]
     },
     "execution_count": 8,
     "metadata": {},
     "output_type": "execute_result"
    }
   ],
   "source": [
    "db.Adhesives_.describe()"
   ]
  },
  {
   "cell_type": "markdown",
   "metadata": {
    "slideshow": {
     "slide_type": "slide"
    }
   },
   "source": [
    "# Schema Visualization"
   ]
  },
  {
   "cell_type": "code",
   "execution_count": 15,
   "metadata": {},
   "outputs": [
    {
     "name": "stdout",
     "output_type": "stream",
     "text": [
      "The autoreload extension is already loaded. To reload it, use:\n",
      "  %reload_ext autoreload\n"
     ]
    },
    {
     "data": {
      "text/plain": [
       "'digraph {graph [pad=\"0.5\", nodesep=\"0.5\", ranksep=\"2\"];node [shape=plain]rankdir=LR;\\nUsers [label=<<table border=\"0\" cellborder=\"1\" cellspacing=\"0\"><tr><td bgcolor=\"lightblue2\"><font face=\"Times-bold\" point-size=\"20\">Users</font></td></tr><tr><td bgcolor=\"#FFCCCB\" port=\"0\">userid&nbsp;&nbsp;<i>&lt;int identity(10)&gt;</i></td></tr><tr><td port=\"1\">usertype&nbsp;&nbsp;<i>&lt;char(255)&gt;</i></td></tr><tr><td port=\"2\">username&nbsp;&nbsp;<i>&lt;char(255)&gt;</i></td></tr><tr><td port=\"3\">useremail&nbsp;&nbsp;<i>&lt;char(255)&gt;</i></td></tr><tr><td port=\"4\">pswd&nbsp;&nbsp;<i>&lt;char(1024)&gt;</i></td></tr><tr><td port=\"5\">companyid&nbsp;&nbsp;<i>&lt;int(10)&gt;</i></td></tr></table>>];\\nUsers:0 -> Cache:0;\\n}'"
      ]
     },
     "execution_count": 15,
     "metadata": {},
     "output_type": "execute_result"
    }
   ],
   "source": [
    "%load_ext autoreload\n",
    "%autoreload 2\n",
    "# db.visualize(tables=['Users'])\n",
    "db.visualize(tables=['Users'], render=False)\n",
    "# Minimal view -> Pk and Fk Relations"
   ]
  },
  {
   "cell_type": "markdown",
   "metadata": {},
   "source": [
    "# Table Names"
   ]
  },
  {
   "cell_type": "code",
   "execution_count": 34,
   "metadata": {},
   "outputs": [
    {
     "data": {
      "application/json": {
       "database": "master",
       "tables": {
        "Adhesives": {
         "adhform": "char(255)",
         "adhid": "int identity(10)| PRIMARY | FK (CureCycle -> adhid)",
         "adhname": "char(255)",
         "adhtype": "char(255)",
         "companyid": "int(10)",
         "distrlevel": "char(1)",
         "expirationdate": "date(10)",
         "groupconfidence": "float(53)",
         "groupnum": "int(10)",
         "lotid": "char(255)",
         "manufacturercode": "char(255)",
         "safetysheetfilesize": "float(53)",
         "safteysheetfilename": "char(255)",
         "techsheetfilename": "char(255)",
         "techsheetfilesize": "float(53)",
         "tier": "int(10)",
         "whetherpublic": "bit(1)"
        },
        "BondingPressure": {
         "bondid": "int identity(10)| PRIMARY | FK (SampleTest -> bondingpressuretype)",
         "bondingpressure": "char(255)",
         "notes": "char(1000)"
        },
        "Cache": {
         "cache": "varchar(0)",
         "userid": "int(10)| PRIMARY "
        },
        "Companies": {
         "companyfax": "char(12)",
         "companyid": "int identity(10)| PRIMARY | FK (Adhesives -> companyid)",
         "companyname": "char(255)",
         "companynum": "char(12)",
         "emaildomain": "char(255)",
         "pointofcemail": "char(255)",
         "pointofcname": "char(255)"
        },
        "CrackExtensionTests": {
         "adhfailperc": "float(53)",
         "afinalavg": "float(53)",
         "afinalside1": "float(53)",
         "afinalside2": "float(53)",
         "ainitavg": "float(53)",
         "ainitside1": "float(53)",
         "ainitside2": "float(53)",
         "beamwidth": "float(53)",
         "cohfailperc": "float(53)",
         "conditiontime": "time(16)",
         "enddate": "date(10)",
         "endhumidity": "float(53)",
         "endtime": "float(53)",
         "envtestchamberid": "int(10)",
         "giscc": "float(53)",
         "opendisplacement": "float(53)",
         "postmicrometerid": "int(10)",
         "sampletestid": "int(10)| PRIMARY ",
         "startdate": "date(10)",
         "starthumidity": "float(53)",
         "startmicrometerid": "int(10)",
         "starttemp": "float(53)"
        },
        "CureCycle": {
         "adhid": "int(10)| PRIMARY ",
         "amtoftime": "float(53)",
         "curetype": "char(10)",
         "stepid": "int(10)",
         "stepstarttemp": "float(53)",
         "tempchangerate": "float(53)"
        },
        "EnvironmentalTestChamber": {
         "envtestchamberid": "int(10)| PRIMARY | FK (CrackExtensionTests -> envtestchamberid)"
        },
        "Instruments": {
         "calibrationdate": "date(10)",
         "instrumentid": "int identity(10)| PRIMARY | FK (EnvironmentalTestChamber -> envtestchamberid)",
         "model": "char(255)",
         "serialnum": "char(255)"
        },
        "LoadCell": {
         "loadcellid": "int(10)| PRIMARY | FK (SingleLapJointTests -> loadcellid)"
        },
        "Micrometer": {
         "micrometerid": "int(10)| PRIMARY | FK (CrackExtensionTests -> postmicrometerid)"
        },
        "Oven": {
         "ovenid": "int(10)| PRIMARY | FK (SampleTest -> ovenid)"
        },
        "SampleTest": {
         "a1": "float(53)",
         "a2": "float(53)",
         "a3": "float(53)",
         "aavg": "float(53)",
         "adhfailperc": "float(53)",
         "adhid": "int(10)",
         "adhprepappbond": "char(1000)",
         "aluminumgrade": "char(255)",
         "avgbondlinethickness": "float(53)",
         "b1": "float(53)",
         "b2": "float(53)",
         "b3": "float(53)",
         "bavg": "float(53)",
         "bondingpressuretype": "int(10)",
         "c1": "float(53)",
         "c2": "float(53)",
         "c3": "float(53)",
         "cavg": "float(53)",
         "cohfailperc": "float(53)",
         "displacement": "float(53)",
         "displacementunits": "char(5)",
         "imgfilename": "char(255)",
         "imgfilesize": "float(53)",
         "load": "float(53)",
         "loatunits": "char(5)",
         "measurementcomment": "char(1000)",
         "measurementunits": "char(10)",
         "mfgnominalthickness": "float(53)",
         "mixtopressuretime": "float(53)",
         "ovenid": "int(10)",
         "sampletestid": "int identity(10)| PRIMARY | FK (CrackExtensionTests -> sampletestid)",
         "startmicrometerid": "int(10)",
         "substratematerial": "char(255)",
         "substratematerialnotes": "char(1000)",
         "surfaceprep": "char(1000)",
         "testingoperator": "char(255)",
         "testingorg": "char(255)",
         "userid": "int(10)",
         "weightorpressure": "float(53)"
        },
        "SingleLapJointTests": {
         "comment": "char(1000)",
         "condition": "char(20)",
         "crossheadspeed": "float(53)",
         "csvfilename": "char(255)",
         "csvfilesize": "float(53)",
         "date": "date(10)",
         "displacementatfail": "float(53)",
         "humidity": "float(53)",
         "jointwidth": "float(53)",
         "length": "float(53)",
         "loadcellid": "int(10)",
         "maxstrength": "float(53)",
         "overlaplength": "float(53)",
         "sampletestid": "int(10)| PRIMARY ",
         "strengthretentionperc": "float(53)",
         "substratethickness": "float(53)",
         "temp": "float(53)",
         "tempunit": "char(2)",
         "testframeid": "int(10)"
        },
        "TestFrame": {
         "testframeid": "int(10)| PRIMARY | FK (SingleLapJointTests -> testframeid)"
        },
        "Users": {
         "companyid": "int(10)",
         "pswd": "char(1024)",
         "useremail": "char(255)",
         "userid": "int identity(10)| PRIMARY | FK (Cache -> userid)",
         "username": "char(255)",
         "usertype": "char(255)"
        }
       }
      },
      "text/plain": [
       "<IPython.core.display.JSON object>"
      ]
     },
     "execution_count": 34,
     "metadata": {
      "application/json": {
       "expanded": false,
       "root": "Schema"
      }
     },
     "output_type": "execute_result"
    }
   ],
   "source": [
    "db.describe()"
   ]
  },
  {
   "cell_type": "markdown",
   "metadata": {},
   "source": [
    "# Column Filter"
   ]
  },
  {
   "cell_type": "code",
   "execution_count": 11,
   "metadata": {},
   "outputs": [
    {
     "data": {
      "application/json": {
       "database": "master",
       "tables": {
        "Adhesives": {
         "adhform": "char(255)",
         "adhid": "int identity(10)| PRIMARY | FK (CureCycle -> adhid)",
         "adhname": "char(255)",
         "adhtype": "char(255)",
         "companyid": "int(10)",
         "distrlevel": "char(1)",
         "expirationdate": "date(10)",
         "groupconfidence": "float(53)",
         "groupnum": "int(10)",
         "lotid": "char(255)",
         "manufacturercode": "char(255)",
         "safetysheetfilesize": "float(53)",
         "safteysheetfilename": "char(255)",
         "techsheetfilename": "char(255)",
         "techsheetfilesize": "float(53)",
         "tier": "int(10)",
         "whetherpublic": "bit(1)"
        },
        "BondingPressure": {
         "bondid": "int identity(10)| PRIMARY | FK (SampleTest -> bondingpressuretype)",
         "bondingpressure": "char(255)",
         "notes": "char(1000)"
        },
        "Cache": {
         "cache": "varchar(0)",
         "userid": "int(10)| PRIMARY "
        },
        "Companies": {
         "companyfax": "char(12)",
         "companyid": "int identity(10)| PRIMARY | FK (Adhesives -> companyid)",
         "companyname": "char(255)",
         "companynum": "char(12)",
         "emaildomain": "char(255)",
         "pointofcemail": "char(255)",
         "pointofcname": "char(255)"
        },
        "CrackExtensionTests": {
         "adhfailperc": "float(53)",
         "afinalavg": "float(53)",
         "afinalside1": "float(53)",
         "afinalside2": "float(53)",
         "ainitavg": "float(53)",
         "ainitside1": "float(53)",
         "ainitside2": "float(53)",
         "beamwidth": "float(53)",
         "cohfailperc": "float(53)",
         "conditiontime": "time(16)",
         "enddate": "date(10)",
         "endhumidity": "float(53)",
         "endtime": "float(53)",
         "envtestchamberid": "int(10)",
         "giscc": "float(53)",
         "opendisplacement": "float(53)",
         "postmicrometerid": "int(10)",
         "sampletestid": "int(10)| PRIMARY ",
         "startdate": "date(10)",
         "starthumidity": "float(53)",
         "startmicrometerid": "int(10)",
         "starttemp": "float(53)"
        },
        "CureCycle": {
         "adhid": "int(10)| PRIMARY ",
         "amtoftime": "float(53)",
         "curetype": "char(10)",
         "stepid": "int(10)",
         "stepstarttemp": "float(53)",
         "tempchangerate": "float(53)"
        },
        "EnvironmentalTestChamber": {
         "envtestchamberid": "int(10)| PRIMARY | FK (CrackExtensionTests -> envtestchamberid)"
        },
        "Instruments": {
         "calibrationdate": "date(10)",
         "instrumentid": "int identity(10)| PRIMARY | FK (EnvironmentalTestChamber -> envtestchamberid)",
         "model": "char(255)",
         "serialnum": "char(255)"
        },
        "LoadCell": {
         "loadcellid": "int(10)| PRIMARY | FK (SingleLapJointTests -> loadcellid)"
        },
        "Micrometer": {
         "micrometerid": "int(10)| PRIMARY | FK (CrackExtensionTests -> postmicrometerid)"
        },
        "Oven": {
         "ovenid": "int(10)| PRIMARY | FK (SampleTest -> ovenid)"
        },
        "SampleTest": {
         "a1": "float(53)",
         "a2": "float(53)",
         "a3": "float(53)",
         "aavg": "float(53)",
         "adhfailperc": "float(53)",
         "adhid": "int(10)",
         "adhprepappbond": "char(1000)",
         "aluminumgrade": "char(255)",
         "avgbondlinethickness": "float(53)",
         "b1": "float(53)",
         "b2": "float(53)",
         "b3": "float(53)",
         "bavg": "float(53)",
         "bondingpressuretype": "int(10)",
         "c1": "float(53)",
         "c2": "float(53)",
         "c3": "float(53)",
         "cavg": "float(53)",
         "cohfailperc": "float(53)",
         "displacement": "float(53)",
         "displacementunits": "char(5)",
         "imgfilename": "char(255)",
         "imgfilesize": "float(53)",
         "load": "float(53)",
         "loatunits": "char(5)",
         "measurementcomment": "char(1000)",
         "measurementunits": "char(10)",
         "mfgnominalthickness": "float(53)",
         "mixtopressuretime": "float(53)",
         "ovenid": "int(10)",
         "sampletestid": "int identity(10)| PRIMARY | FK (CrackExtensionTests -> sampletestid)",
         "startmicrometerid": "int(10)",
         "substratematerial": "char(255)",
         "substratematerialnotes": "char(1000)",
         "surfaceprep": "char(1000)",
         "testingoperator": "char(255)",
         "testingorg": "char(255)",
         "userid": "int(10)",
         "weightorpressure": "float(53)"
        },
        "SingleLapJointTests": {
         "comment": "char(1000)",
         "condition": "char(20)",
         "crossheadspeed": "float(53)",
         "csvfilename": "char(255)",
         "csvfilesize": "float(53)",
         "date": "date(10)",
         "displacementatfail": "float(53)",
         "humidity": "float(53)",
         "jointwidth": "float(53)",
         "length": "float(53)",
         "loadcellid": "int(10)",
         "maxstrength": "float(53)",
         "overlaplength": "float(53)",
         "sampletestid": "int(10)| PRIMARY ",
         "strengthretentionperc": "float(53)",
         "substratethickness": "float(53)",
         "temp": "float(53)",
         "tempunit": "char(2)",
         "testframeid": "int(10)"
        },
        "TestFrame": {
         "testframeid": "int(10)| PRIMARY | FK (SingleLapJointTests -> testframeid)"
        },
        "Users": {
         "companyid": "int(10)",
         "pswd": "char(1024)",
         "useremail": "char(255)",
         "userid": "int identity(10)| PRIMARY | FK (Cache -> userid)",
         "username": "char(255)",
         "usertype": "char(255)"
        }
       }
      },
      "text/plain": [
       "<IPython.core.display.JSON object>"
      ]
     },
     "execution_count": 11,
     "metadata": {
      "application/json": {
       "expanded": false,
       "root": "Schema"
      }
     },
     "output_type": "execute_result"
    }
   ],
   "source": [
    "db.describe()"
   ]
  },
  {
   "cell_type": "markdown",
   "metadata": {},
   "source": [
    "# Fast Query (DataFrame) (No Cursor)"
   ]
  },
  {
   "cell_type": "code",
   "execution_count": 12,
   "metadata": {},
   "outputs": [
    {
     "data": {
      "text/html": [
       "<div>\n",
       "<style scoped>\n",
       "    .dataframe tbody tr th:only-of-type {\n",
       "        vertical-align: middle;\n",
       "    }\n",
       "\n",
       "    .dataframe tbody tr th {\n",
       "        vertical-align: top;\n",
       "    }\n",
       "\n",
       "    .dataframe thead th {\n",
       "        text-align: right;\n",
       "    }\n",
       "</style>\n",
       "<table border=\"1\" class=\"dataframe\">\n",
       "  <thead>\n",
       "    <tr style=\"text-align: right;\">\n",
       "      <th></th>\n",
       "      <th>adhid</th>\n",
       "      <th>distrlevel</th>\n",
       "      <th>whetherpublic</th>\n",
       "      <th>adhname</th>\n",
       "      <th>adhtype</th>\n",
       "      <th>adhform</th>\n",
       "      <th>lotid</th>\n",
       "      <th>manufacturercode</th>\n",
       "      <th>expirationdate</th>\n",
       "      <th>tier</th>\n",
       "      <th>groupnum</th>\n",
       "      <th>groupconfidence</th>\n",
       "      <th>safteysheetfilename</th>\n",
       "      <th>safetysheetfilesize</th>\n",
       "      <th>techsheetfilename</th>\n",
       "      <th>techsheetfilesize</th>\n",
       "      <th>companyid</th>\n",
       "    </tr>\n",
       "  </thead>\n",
       "  <tbody>\n",
       "    <tr>\n",
       "      <th>0</th>\n",
       "      <td>1</td>\n",
       "      <td>None</td>\n",
       "      <td>None</td>\n",
       "      <td>Adhesive 1                                    ...</td>\n",
       "      <td>None</td>\n",
       "      <td>None</td>\n",
       "      <td>None</td>\n",
       "      <td>None</td>\n",
       "      <td>None</td>\n",
       "      <td>None</td>\n",
       "      <td>None</td>\n",
       "      <td>None</td>\n",
       "      <td>None</td>\n",
       "      <td>None</td>\n",
       "      <td>None</td>\n",
       "      <td>None</td>\n",
       "      <td>None</td>\n",
       "    </tr>\n",
       "    <tr>\n",
       "      <th>1</th>\n",
       "      <td>2</td>\n",
       "      <td>None</td>\n",
       "      <td>None</td>\n",
       "      <td>Adhesive 1                                    ...</td>\n",
       "      <td>None</td>\n",
       "      <td>None</td>\n",
       "      <td>None</td>\n",
       "      <td>None</td>\n",
       "      <td>None</td>\n",
       "      <td>None</td>\n",
       "      <td>None</td>\n",
       "      <td>None</td>\n",
       "      <td>None</td>\n",
       "      <td>None</td>\n",
       "      <td>None</td>\n",
       "      <td>None</td>\n",
       "      <td>None</td>\n",
       "    </tr>\n",
       "    <tr>\n",
       "      <th>2</th>\n",
       "      <td>3</td>\n",
       "      <td>None</td>\n",
       "      <td>None</td>\n",
       "      <td>Adhesive 1                                    ...</td>\n",
       "      <td>None</td>\n",
       "      <td>None</td>\n",
       "      <td>None</td>\n",
       "      <td>None</td>\n",
       "      <td>None</td>\n",
       "      <td>None</td>\n",
       "      <td>None</td>\n",
       "      <td>None</td>\n",
       "      <td>None</td>\n",
       "      <td>None</td>\n",
       "      <td>None</td>\n",
       "      <td>None</td>\n",
       "      <td>None</td>\n",
       "    </tr>\n",
       "    <tr>\n",
       "      <th>3</th>\n",
       "      <td>4</td>\n",
       "      <td>None</td>\n",
       "      <td>None</td>\n",
       "      <td>Adhesive 1                                    ...</td>\n",
       "      <td>None</td>\n",
       "      <td>None</td>\n",
       "      <td>None</td>\n",
       "      <td>None</td>\n",
       "      <td>None</td>\n",
       "      <td>None</td>\n",
       "      <td>None</td>\n",
       "      <td>None</td>\n",
       "      <td>None</td>\n",
       "      <td>None</td>\n",
       "      <td>None</td>\n",
       "      <td>None</td>\n",
       "      <td>None</td>\n",
       "    </tr>\n",
       "    <tr>\n",
       "      <th>4</th>\n",
       "      <td>5</td>\n",
       "      <td>None</td>\n",
       "      <td>None</td>\n",
       "      <td>Adhesive 1                                    ...</td>\n",
       "      <td>None</td>\n",
       "      <td>None</td>\n",
       "      <td>None</td>\n",
       "      <td>None</td>\n",
       "      <td>None</td>\n",
       "      <td>None</td>\n",
       "      <td>None</td>\n",
       "      <td>None</td>\n",
       "      <td>None</td>\n",
       "      <td>None</td>\n",
       "      <td>None</td>\n",
       "      <td>None</td>\n",
       "      <td>None</td>\n",
       "    </tr>\n",
       "    <tr>\n",
       "      <th>5</th>\n",
       "      <td>6</td>\n",
       "      <td>None</td>\n",
       "      <td>None</td>\n",
       "      <td>Adhesive 1                                    ...</td>\n",
       "      <td>None</td>\n",
       "      <td>None</td>\n",
       "      <td>None</td>\n",
       "      <td>None</td>\n",
       "      <td>None</td>\n",
       "      <td>None</td>\n",
       "      <td>None</td>\n",
       "      <td>None</td>\n",
       "      <td>None</td>\n",
       "      <td>None</td>\n",
       "      <td>None</td>\n",
       "      <td>None</td>\n",
       "      <td>None</td>\n",
       "    </tr>\n",
       "    <tr>\n",
       "      <th>6</th>\n",
       "      <td>7</td>\n",
       "      <td>None</td>\n",
       "      <td>None</td>\n",
       "      <td>Adhesive 1                                    ...</td>\n",
       "      <td>None</td>\n",
       "      <td>None</td>\n",
       "      <td>None</td>\n",
       "      <td>None</td>\n",
       "      <td>None</td>\n",
       "      <td>None</td>\n",
       "      <td>None</td>\n",
       "      <td>None</td>\n",
       "      <td>None</td>\n",
       "      <td>None</td>\n",
       "      <td>None</td>\n",
       "      <td>None</td>\n",
       "      <td>None</td>\n",
       "    </tr>\n",
       "    <tr>\n",
       "      <th>7</th>\n",
       "      <td>8</td>\n",
       "      <td>None</td>\n",
       "      <td>None</td>\n",
       "      <td>Adhesive 1                                    ...</td>\n",
       "      <td>None</td>\n",
       "      <td>None</td>\n",
       "      <td>None</td>\n",
       "      <td>None</td>\n",
       "      <td>None</td>\n",
       "      <td>None</td>\n",
       "      <td>None</td>\n",
       "      <td>None</td>\n",
       "      <td>None</td>\n",
       "      <td>None</td>\n",
       "      <td>None</td>\n",
       "      <td>None</td>\n",
       "      <td>None</td>\n",
       "    </tr>\n",
       "  </tbody>\n",
       "</table>\n",
       "</div>"
      ],
      "text/plain": [
       "   adhid distrlevel whetherpublic  \\\n",
       "0      1       None          None   \n",
       "1      2       None          None   \n",
       "2      3       None          None   \n",
       "3      4       None          None   \n",
       "4      5       None          None   \n",
       "5      6       None          None   \n",
       "6      7       None          None   \n",
       "7      8       None          None   \n",
       "\n",
       "                                             adhname adhtype adhform lotid  \\\n",
       "0  Adhesive 1                                    ...    None    None  None   \n",
       "1  Adhesive 1                                    ...    None    None  None   \n",
       "2  Adhesive 1                                    ...    None    None  None   \n",
       "3  Adhesive 1                                    ...    None    None  None   \n",
       "4  Adhesive 1                                    ...    None    None  None   \n",
       "5  Adhesive 1                                    ...    None    None  None   \n",
       "6  Adhesive 1                                    ...    None    None  None   \n",
       "7  Adhesive 1                                    ...    None    None  None   \n",
       "\n",
       "  manufacturercode expirationdate  tier groupnum groupconfidence  \\\n",
       "0             None           None  None     None            None   \n",
       "1             None           None  None     None            None   \n",
       "2             None           None  None     None            None   \n",
       "3             None           None  None     None            None   \n",
       "4             None           None  None     None            None   \n",
       "5             None           None  None     None            None   \n",
       "6             None           None  None     None            None   \n",
       "7             None           None  None     None            None   \n",
       "\n",
       "  safteysheetfilename safetysheetfilesize techsheetfilename techsheetfilesize  \\\n",
       "0                None                None              None              None   \n",
       "1                None                None              None              None   \n",
       "2                None                None              None              None   \n",
       "3                None                None              None              None   \n",
       "4                None                None              None              None   \n",
       "5                None                None              None              None   \n",
       "6                None                None              None              None   \n",
       "7                None                None              None              None   \n",
       "\n",
       "  companyid  \n",
       "0      None  \n",
       "1      None  \n",
       "2      None  \n",
       "3      None  \n",
       "4      None  \n",
       "5      None  \n",
       "6      None  \n",
       "7      None  "
      ]
     },
     "execution_count": 12,
     "metadata": {},
     "output_type": "execute_result"
    }
   ],
   "source": [
    "db.query(\"SELECT * FROM Adhesives\")\n",
    "db.Adhesives_"
   ]
  },
  {
   "cell_type": "markdown",
   "metadata": {},
   "source": [
    "# Complex Query with a Cursor\n"
   ]
  },
  {
   "cell_type": "code",
   "execution_count": 13,
   "metadata": {},
   "outputs": [
    {
     "name": "stdout",
     "output_type": "stream",
     "text": [
      "(1, None, None, 'Adhesive 1                                                                                                                                                                                                                                                     ', None, None, None, None, None, None, None, None, None, None, None, None, None)\n",
      "(2, None, None, 'Adhesive 1                                                                                                                                                                                                                                                     ', None, None, None, None, None, None, None, None, None, None, None, None, None)\n",
      "(3, None, None, 'Adhesive 1                                                                                                                                                                                                                                                     ', None, None, None, None, None, None, None, None, None, None, None, None, None)\n",
      "(4, None, None, 'Adhesive 1                                                                                                                                                                                                                                                     ', None, None, None, None, None, None, None, None, None, None, None, None, None)\n",
      "(5, None, None, 'Adhesive 1                                                                                                                                                                                                                                                     ', None, None, None, None, None, None, None, None, None, None, None, None, None)\n",
      "(6, None, None, 'Adhesive 1                                                                                                                                                                                                                                                     ', None, None, None, None, None, None, None, None, None, None, None, None, None)\n",
      "(7, None, None, 'Adhesive 1                                                                                                                                                                                                                                                     ', None, None, None, None, None, None, None, None, None, None, None, None, None)\n",
      "(8, None, None, 'Adhesive 1                                                                                                                                                                                                                                                     ', None, None, None, None, None, None, None, None, None, None, None, None, None)\n"
     ]
    }
   ],
   "source": [
    "for row in db.conn.execute(\"SELECT * FROM Adhesives\"):\n",
    "    print(row)"
   ]
  },
  {
   "cell_type": "code",
   "execution_count": 22,
   "metadata": {},
   "outputs": [
    {
     "data": {
      "text/html": [
       "\n",
       "        <iframe\n",
       "            width=\"100%\"\n",
       "            height=\"650\"\n",
       "            src=\"http://127.0.0.1:4455/\"\n",
       "            frameborder=\"0\"\n",
       "            allowfullscreen\n",
       "        ></iframe>\n",
       "        "
      ],
      "text/plain": [
       "<IPython.lib.display.IFrame at 0x7faf6506ffd0>"
      ]
     },
     "metadata": {},
     "output_type": "display_data"
    }
   ],
   "source": [
    "import dash_interactive_graphviz\n",
    "\n",
    "dot_source = \"\"\"\n",
    "digraph {graph [pad=\"0.5\", nodesep=\"0.5\", ranksep=\"2\"];node [shape=plain]rankdir=LR;\\nUsers [label=<<table border=\"0\" cellborder=\"1\" cellspacing=\"0\"><tr><td bgcolor=\"lightblue2\"><font face=\"Times-bold\" point-size=\"20\">Users</font></td></tr><tr><td bgcolor=\"#FFCCCB\" port=\"0\">userid&nbsp;&nbsp;<i>&lt;int identity(10)&gt;</i></td></tr><tr><td port=\"1\">usertype&nbsp;&nbsp;<i>&lt;char(255)&gt;</i></td></tr><tr><td port=\"2\">username&nbsp;&nbsp;<i>&lt;char(255)&gt;</i></td></tr><tr><td port=\"3\">useremail&nbsp;&nbsp;<i>&lt;char(255)&gt;</i></td></tr><tr><td port=\"4\">pswd&nbsp;&nbsp;<i>&lt;char(1024)&gt;</i></td></tr><tr><td port=\"5\">companyid&nbsp;&nbsp;<i>&lt;int(10)&gt;</i></td></tr></table>>];\\nUsers:0 -> Cache:0;\\n}\n",
    "\"\"\"\n",
    "\n",
    "d = dash_interactive_graphviz.DashInteractiveGraphviz(\n",
    "    id=\"graph\",\n",
    "    dot_source=dot_source#db.visualize(tables=[\"SampleTest\"],render=False)\n",
    ")\n",
    "# print(d.to_plotly_json())\n",
    "# dir(d)\n",
    "from jupyter_dash import JupyterDash\n",
    "import dash\n",
    "import dash_core_components as dcc\n",
    "import dash_html_components as html\n",
    "app = JupyterDash(__name__)\n",
    "available_indicators = list(range(10))\n",
    "app.layout = d\n",
    "app.run_server(mode=\"inline\", port=\"4455\")"
   ]
  },
  {
   "cell_type": "code",
   "execution_count": 49,
   "metadata": {},
   "outputs": [
    {
     "data": {
      "text/html": [
       "\n",
       "        <iframe\n",
       "            width=\"100%\"\n",
       "            height=\"650\"\n",
       "            src=\"http://127.0.0.1:8050/\"\n",
       "            frameborder=\"0\"\n",
       "            allowfullscreen\n",
       "        ></iframe>\n",
       "        "
      ],
      "text/plain": [
       "<IPython.lib.display.IFrame at 0x7faf69095940>"
      ]
     },
     "metadata": {},
     "output_type": "display_data"
    },
    {
     "name": "stdout",
     "output_type": "stream",
     "text": [
      "\u001b[1;31m---------------------------------------------------------------------------\u001b[0m\n",
      "\u001b[1;31mTypeError\u001b[0m                                 Traceback (most recent call last)\n",
      "\u001b[1;32m<ipython-input-49-980e4ce535c2>\u001b[0m in \u001b[0;36mshow_selected\u001b[1;34m(value=None)\u001b[0m\n",
      "\u001b[0;32m     64\u001b[0m \u001b[1;33m@\u001b[0m\u001b[0mapp\u001b[0m\u001b[1;33m.\u001b[0m\u001b[0mcallback\u001b[0m\u001b[1;33m(\u001b[0m\u001b[0mOutput\u001b[0m\u001b[1;33m(\u001b[0m\u001b[1;34m\"selected\"\u001b[0m\u001b[1;33m,\u001b[0m \u001b[1;34m\"children\"\u001b[0m\u001b[1;33m)\u001b[0m\u001b[1;33m,\u001b[0m \u001b[1;33m[\u001b[0m\u001b[0mInput\u001b[0m\u001b[1;33m(\u001b[0m\u001b[1;34m\"gv\"\u001b[0m\u001b[1;33m,\u001b[0m \u001b[1;34m\"selected\"\u001b[0m\u001b[1;33m)\u001b[0m\u001b[1;33m]\u001b[0m\u001b[1;33m)\u001b[0m\u001b[1;33m\u001b[0m\u001b[1;33m\u001b[0m\u001b[0m\n",
      "\u001b[0;32m     65\u001b[0m \u001b[1;32mdef\u001b[0m \u001b[0mshow_selected\u001b[0m\u001b[1;33m(\u001b[0m\u001b[0mvalue\u001b[0m\u001b[1;33m)\u001b[0m\u001b[1;33m:\u001b[0m\u001b[1;33m\u001b[0m\u001b[1;33m\u001b[0m\u001b[0m\n",
      "\u001b[1;32m---> 66\u001b[1;33m     \u001b[1;32mreturn\u001b[0m \u001b[0mhtml\u001b[0m\u001b[1;33m.\u001b[0m\u001b[0mDiv\u001b[0m\u001b[1;33m(\u001b[0m\u001b[0mvalue\u001b[0m\u001b[1;33m+\u001b[0m\u001b[1;34m\" abcd\"\u001b[0m\u001b[1;33m)\u001b[0m\u001b[1;33m\u001b[0m\u001b[1;33m\u001b[0m\u001b[0m\n",
      "\u001b[0m        \u001b[1;36mglobal\u001b[0m \u001b[0;36mhtml.Div\u001b[0m \u001b[1;34m= <class 'dash_html_components.Div.Div'>\u001b[0m\u001b[1;34m\n",
      "        \u001b[0m\u001b[0;36mvalue\u001b[0m \u001b[1;34m= None\u001b[0m\n",
      "\u001b[0;32m     67\u001b[0m \u001b[1;33m\u001b[0m\u001b[0m\n",
      "\u001b[0;32m     68\u001b[0m \u001b[1;33m\u001b[0m\u001b[0m\n",
      "\n",
      "\u001b[1;31mTypeError\u001b[0m: unsupported operand type(s) for +: 'NoneType' and 'str'\n",
      "\n",
      "\u001b[1;31m---------------------------------------------------------------------------\u001b[0m\n",
      "\u001b[1;31mTypeError\u001b[0m                                 Traceback (most recent call last)\n",
      "\u001b[1;32m<ipython-input-49-980e4ce535c2>\u001b[0m in \u001b[0;36mshow_selected\u001b[1;34m(value=None)\u001b[0m\n",
      "\u001b[0;32m     64\u001b[0m \u001b[1;33m@\u001b[0m\u001b[0mapp\u001b[0m\u001b[1;33m.\u001b[0m\u001b[0mcallback\u001b[0m\u001b[1;33m(\u001b[0m\u001b[0mOutput\u001b[0m\u001b[1;33m(\u001b[0m\u001b[1;34m\"selected\"\u001b[0m\u001b[1;33m,\u001b[0m \u001b[1;34m\"children\"\u001b[0m\u001b[1;33m)\u001b[0m\u001b[1;33m,\u001b[0m \u001b[1;33m[\u001b[0m\u001b[0mInput\u001b[0m\u001b[1;33m(\u001b[0m\u001b[1;34m\"gv\"\u001b[0m\u001b[1;33m,\u001b[0m \u001b[1;34m\"selected\"\u001b[0m\u001b[1;33m)\u001b[0m\u001b[1;33m]\u001b[0m\u001b[1;33m)\u001b[0m\u001b[1;33m\u001b[0m\u001b[1;33m\u001b[0m\u001b[0m\n",
      "\u001b[0;32m     65\u001b[0m \u001b[1;32mdef\u001b[0m \u001b[0mshow_selected\u001b[0m\u001b[1;33m(\u001b[0m\u001b[0mvalue\u001b[0m\u001b[1;33m)\u001b[0m\u001b[1;33m:\u001b[0m\u001b[1;33m\u001b[0m\u001b[1;33m\u001b[0m\u001b[0m\n",
      "\u001b[1;32m---> 66\u001b[1;33m     \u001b[1;32mreturn\u001b[0m \u001b[0mhtml\u001b[0m\u001b[1;33m.\u001b[0m\u001b[0mDiv\u001b[0m\u001b[1;33m(\u001b[0m\u001b[0mvalue\u001b[0m\u001b[1;33m+\u001b[0m\u001b[1;34m\" abcd\"\u001b[0m\u001b[1;33m)\u001b[0m\u001b[1;33m\u001b[0m\u001b[1;33m\u001b[0m\u001b[0m\n",
      "\u001b[0m        \u001b[1;36mglobal\u001b[0m \u001b[0;36mhtml.Div\u001b[0m \u001b[1;34m= <class 'dash_html_components.Div.Div'>\u001b[0m\u001b[1;34m\n",
      "        \u001b[0m\u001b[0;36mvalue\u001b[0m \u001b[1;34m= None\u001b[0m\n",
      "\u001b[0;32m     67\u001b[0m \u001b[1;33m\u001b[0m\u001b[0m\n",
      "\u001b[0;32m     68\u001b[0m \u001b[1;33m\u001b[0m\u001b[0m\n",
      "\n",
      "\u001b[1;31mTypeError\u001b[0m: unsupported operand type(s) for +: 'NoneType' and 'str'\n",
      "\n"
     ]
    }
   ],
   "source": [
    "import dash_interactive_graphviz\n",
    "import dash\n",
    "from dash.dependencies import Input, Output\n",
    "import dash_html_components as html\n",
    "import dash_core_components as dcc\n",
    "\n",
    "app = JupyterDash(__name__)\n",
    "\n",
    "initial_dot_source = \"\"\"\n",
    "digraph {graph [pad=\"0.5\", nodesep=\"0.5\", ranksep=\"2\"];node [shape=plain]rankdir=LR;\\nUsers [label=<<table border=\"0\" cellborder=\"1\" cellspacing=\"0\"><tr><td bgcolor=\"lightblue2\"><font face=\"Times-bold\" point-size=\"20\">Users</font></td></tr><tr><td bgcolor=\"#FFCCCB\" port=\"0\">userid&nbsp;&nbsp;<i>&lt;int identity(10)&gt;</i></td></tr><tr><td port=\"1\">usertype&nbsp;&nbsp;<i>&lt;char(255)&gt;</i></td></tr><tr><td port=\"2\">username&nbsp;&nbsp;<i>&lt;char(255)&gt;</i></td></tr><tr><td port=\"3\">useremail&nbsp;&nbsp;<i>&lt;char(255)&gt;</i></td></tr><tr><td port=\"4\">pswd&nbsp;&nbsp;<i>&lt;char(1024)&gt;</i></td></tr><tr><td port=\"5\">companyid&nbsp;&nbsp;<i>&lt;int(10)&gt;</i></td></tr></table>>];\\nUsers:0 -> Cache:0;\\n}\n",
    "\"\"\"\n",
    "\n",
    "app.layout = html.Div(\n",
    "    [\n",
    "        html.Div(\n",
    "            dash_interactive_graphviz.DashInteractiveGraphviz(id=\"gv\"),\n",
    "            style=dict(flexGrow=1, position=\"relative\"),\n",
    "        ),\n",
    "        html.Div(\n",
    "            [\n",
    "                html.H3(\"Minimize\"),\n",
    "                html.Button(\"xyz\"),\n",
    "                html.H3(\"Selected Node\"),\n",
    "                html.Div(id=\"selected\"),\n",
    "                html.H3(\"Dot Source\"),\n",
    "                dcc.Textarea(\n",
    "                    id=\"input\",\n",
    "                    value=initial_dot_source,\n",
    "                    style=dict(flexGrow=1, position=\"relative\"),\n",
    "                ),\n",
    "                html.H3(\"Engine\"),\n",
    "                dcc.Dropdown(\n",
    "                    id=\"engine\",\n",
    "                    value=\"dot\",\n",
    "                    options=[\n",
    "                        dict(label=engine, value=engine)\n",
    "                        for engine in [\n",
    "                            \"dot\",\n",
    "                            \"fdp\",\n",
    "                            \"neato\",\n",
    "                            \"circo\",\n",
    "                            \"osage\",\n",
    "                            \"patchwork\",\n",
    "                            \"twopi\",\n",
    "                        ]\n",
    "                    ],\n",
    "                ),\n",
    "            ],\n",
    "            style=dict(display=\"flex\", flexDirection=\"column\"),\n",
    "        ),\n",
    "    ],\n",
    "    style=dict(position=\"absolute\", height=\"100%\", width=\"100%\", display=\"flex\"),\n",
    ")\n",
    "\n",
    "\n",
    "@app.callback(\n",
    "    [Output(\"gv\", \"dot_source\"), Output(\"gv\", \"engine\")],\n",
    "    [Input(\"input\", \"value\"), Input(\"engine\", \"value\")],\n",
    ")\n",
    "def display_output(value, engine):\n",
    "    return value, engine\n",
    "\n",
    "@app.callback(\n",
    "    [Output(\"gv\", \"dot_source\"), Output(\"gv\", \"engine\")],\n",
    "    [Input(\"input\", \"value\"), Input(\"engine\", \"value\")],\n",
    ")\n",
    "def display_output(value, engine):\n",
    "    return value, engine\n",
    "\n",
    "\n",
    "@app.callback(Output(\"selected\", \"children\"), [Input(\"gv\", \"selected\")])\n",
    "def show_selected(value):\n",
    "    return html.Div(value+\" abcd\")\n",
    "\n",
    "\n",
    "\n",
    "app.run_server(mode=\"inline\")"
   ]
  },
  {
   "cell_type": "markdown",
   "metadata": {
    "slideshow": {
     "slide_type": "slide"
    }
   },
   "source": [
    "<div align=\"center\">\n",
    "    <b style=\"font-size:68px\">Thank You</b><br/>\n",
    "</div>"
   ]
  }
 ],
 "metadata": {
  "celltoolbar": "Slideshow",
  "kernelspec": {
   "display_name": "Python 3",
   "language": "python",
   "name": "python3"
  },
  "language_info": {
   "codemirror_mode": {
    "name": "ipython",
    "version": 3
   },
   "file_extension": ".py",
   "mimetype": "text/x-python",
   "name": "python",
   "nbconvert_exporter": "python",
   "pygments_lexer": "ipython3",
   "version": "3.6.10"
  },
  "rise": {
   "auto_select": "none",
   "auto_select_fragment": false,
   "autolaunch": false,
   "enable_chalkboard": false,
   "header": "<img src='https://federallabs.org/sites/default/files/styles/lab_logo/public/labs/ccdc_arl_logo_0.png?itok=4KvI8iZD' style='padding:30px; max-height:150px'/>",
   "scroll": true,
   "slideNumber": true,
   "transition": "none"
  }
 },
 "nbformat": 4,
 "nbformat_minor": 4
}
